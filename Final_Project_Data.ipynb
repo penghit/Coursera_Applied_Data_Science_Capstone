{
    "cells": [
        {
            "cell_type": "markdown",
            "metadata": {
                "collapsed": true
            },
            "source": "# Data used for this project\n\n### The data we used for this project include the New York neighborhoods information from the previous project and the Nashville Neighborhood information I get from the wiki page : https://en.wikipedia.org/wiki/Nashville,_Tennessee \n\n### I will use the name of the neighborhood as input and use geo library got the latitude and longitude of each neighborhood. Then I will use the Foursquare API to get the venues around each neighbor. Combine this information with the venues in the New York City neighborhoods and use a cluster algorithm to cluster the neighbor in Nashville and New York together. Then we can see which neighbor in Nashville and New York belongs to the same cluster and I would know which neighbor to move to.\n\n### One thing to notice is that since we are going to cluster the neighborhood of Nashville and New York together, we need to make sure that the venues in the Nashville neighbors and New York neighbors are the same to make sure that the cluster algorithm are not affected by some venues unique to some areas. So after getting the venues for each Nashville neighbors and New York neighbors, we need to have a study of the neighbors of each city, find the common venues and remove the redudent venues to make sure the cluster works fine."
        },
        {
            "cell_type": "code",
            "execution_count": null,
            "metadata": {},
            "outputs": [],
            "source": ""
        }
    ],
    "metadata": {
        "kernelspec": {
            "display_name": "Python 3.6",
            "language": "python",
            "name": "python3"
        },
        "language_info": {
            "codemirror_mode": {
                "name": "ipython",
                "version": 3
            },
            "file_extension": ".py",
            "mimetype": "text/x-python",
            "name": "python",
            "nbconvert_exporter": "python",
            "pygments_lexer": "ipython3",
            "version": "3.6.9"
        }
    },
    "nbformat": 4,
    "nbformat_minor": 1
}