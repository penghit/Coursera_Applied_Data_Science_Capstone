{
    "cells": [
        {
            "cell_type": "markdown",
            "metadata": {},
            "source": "### Heroes Of Pymoli Data Analysis\n* Of the 576 active players, the vast majority are male (84%). There also exists, a smaller, but notable proportion of female players (14%).\n\n* Our peak age demographic falls between 20-24 (44.8%) with secondary groups falling between 15-19 (18.60%) and 25-29 (13.4%).  \n\n\n<ol> Conclusion:\n    <li>The total revenue is \\$ 2379.77 from 780 purchases out of 179 unique items, in which the average item price is \\$ 3.05.</li>\n    <li>Males have spent almost three times more on purchases than females (\\$1967.64-male vs \\$361.94-female). This would be an interesting topic as to why females prefer playing computer games less than males, in general.</li>\n    <li>The teenages aged less than 19 years old made up 25.35% of the group, which is concerning on the total time consumption these teenagers would spend on playing computer games. Their mental and physical health related to the time consumption on playing games should raise public awareness.</li> \n    <li>The \"Final Critic\" game is the most profitable item and the most popular item, which has been sold 13 times and made $60 as the total purchase value. </li>\n</ol>\n    \n\n-----"
        },
        {
            "cell_type": "code",
            "execution_count": 8,
            "metadata": {},
            "outputs": [
                {
                    "data": {
                        "text/html": "<div>\n<style scoped>\n    .dataframe tbody tr th:only-of-type {\n        vertical-align: middle;\n    }\n\n    .dataframe tbody tr th {\n        vertical-align: top;\n    }\n\n    .dataframe thead th {\n        text-align: right;\n    }\n</style>\n<table border=\"1\" class=\"dataframe\">\n  <thead>\n    <tr style=\"text-align: right;\">\n      <th></th>\n      <th>Purchase ID</th>\n      <th>SN</th>\n      <th>Age</th>\n      <th>Gender</th>\n      <th>Item ID</th>\n      <th>Item Name</th>\n      <th>Price</th>\n    </tr>\n  </thead>\n  <tbody>\n    <tr>\n      <th>0</th>\n      <td>0</td>\n      <td>Lisim78</td>\n      <td>20</td>\n      <td>Male</td>\n      <td>108</td>\n      <td>Extraction, Quickblade Of Trembling Hands</td>\n      <td>3.53</td>\n    </tr>\n    <tr>\n      <th>1</th>\n      <td>1</td>\n      <td>Lisovynya38</td>\n      <td>40</td>\n      <td>Male</td>\n      <td>143</td>\n      <td>Frenzied Scimitar</td>\n      <td>1.56</td>\n    </tr>\n    <tr>\n      <th>2</th>\n      <td>2</td>\n      <td>Ithergue48</td>\n      <td>24</td>\n      <td>Male</td>\n      <td>92</td>\n      <td>Final Critic</td>\n      <td>4.88</td>\n    </tr>\n    <tr>\n      <th>3</th>\n      <td>3</td>\n      <td>Chamassasya86</td>\n      <td>24</td>\n      <td>Male</td>\n      <td>100</td>\n      <td>Blindscythe</td>\n      <td>3.27</td>\n    </tr>\n    <tr>\n      <th>4</th>\n      <td>4</td>\n      <td>Iskosia90</td>\n      <td>23</td>\n      <td>Male</td>\n      <td>131</td>\n      <td>Fury</td>\n      <td>1.44</td>\n    </tr>\n  </tbody>\n</table>\n</div>",
                        "text/plain": "   Purchase ID             SN  Age Gender  Item ID  \\\n0            0        Lisim78   20   Male      108   \n1            1    Lisovynya38   40   Male      143   \n2            2     Ithergue48   24   Male       92   \n3            3  Chamassasya86   24   Male      100   \n4            4      Iskosia90   23   Male      131   \n\n                                   Item Name  Price  \n0  Extraction, Quickblade Of Trembling Hands   3.53  \n1                          Frenzied Scimitar   1.56  \n2                               Final Critic   4.88  \n3                                Blindscythe   3.27  \n4                                       Fury   1.44  "
                    },
                    "execution_count": 8,
                    "metadata": {},
                    "output_type": "execute_result"
                }
            ],
            "source": "# The code was removed by Watson Studio for sharing."
        },
        {
            "cell_type": "code",
            "execution_count": null,
            "metadata": {},
            "outputs": [],
            "source": ""
        },
        {
            "cell_type": "markdown",
            "metadata": {},
            "source": "As final considerations:\n\nYou must use the Pandas Library and the Jupyter Notebook.\nYou must submit a link to your Jupyter Notebook with the viewable Data Frames.\nYou must include a written description of three observable trends based on the data.\nSee Example Solution for a reference on expected format."
        },
        {
            "cell_type": "code",
            "execution_count": 9,
            "metadata": {},
            "outputs": [
                {
                    "data": {
                        "text/html": "<div>\n<style scoped>\n    .dataframe tbody tr th:only-of-type {\n        vertical-align: middle;\n    }\n\n    .dataframe tbody tr th {\n        vertical-align: top;\n    }\n\n    .dataframe thead th {\n        text-align: right;\n    }\n</style>\n<table border=\"1\" class=\"dataframe\">\n  <thead>\n    <tr style=\"text-align: right;\">\n      <th></th>\n      <th>Purchase ID</th>\n      <th>Age</th>\n      <th>Item ID</th>\n      <th>Price</th>\n    </tr>\n  </thead>\n  <tbody>\n    <tr>\n      <th>count</th>\n      <td>780.000000</td>\n      <td>780.000000</td>\n      <td>780.000000</td>\n      <td>780.000000</td>\n    </tr>\n    <tr>\n      <th>mean</th>\n      <td>389.500000</td>\n      <td>22.714103</td>\n      <td>91.755128</td>\n      <td>3.050987</td>\n    </tr>\n    <tr>\n      <th>std</th>\n      <td>225.310896</td>\n      <td>6.659444</td>\n      <td>52.697702</td>\n      <td>1.169549</td>\n    </tr>\n    <tr>\n      <th>min</th>\n      <td>0.000000</td>\n      <td>7.000000</td>\n      <td>0.000000</td>\n      <td>1.000000</td>\n    </tr>\n    <tr>\n      <th>25%</th>\n      <td>194.750000</td>\n      <td>20.000000</td>\n      <td>47.750000</td>\n      <td>1.980000</td>\n    </tr>\n    <tr>\n      <th>50%</th>\n      <td>389.500000</td>\n      <td>22.000000</td>\n      <td>92.000000</td>\n      <td>3.150000</td>\n    </tr>\n    <tr>\n      <th>75%</th>\n      <td>584.250000</td>\n      <td>25.000000</td>\n      <td>138.000000</td>\n      <td>4.080000</td>\n    </tr>\n    <tr>\n      <th>max</th>\n      <td>779.000000</td>\n      <td>45.000000</td>\n      <td>183.000000</td>\n      <td>4.990000</td>\n    </tr>\n  </tbody>\n</table>\n</div>",
                        "text/plain": "       Purchase ID         Age     Item ID       Price\ncount   780.000000  780.000000  780.000000  780.000000\nmean    389.500000   22.714103   91.755128    3.050987\nstd     225.310896    6.659444   52.697702    1.169549\nmin       0.000000    7.000000    0.000000    1.000000\n25%     194.750000   20.000000   47.750000    1.980000\n50%     389.500000   22.000000   92.000000    3.150000\n75%     584.250000   25.000000  138.000000    4.080000\nmax     779.000000   45.000000  183.000000    4.990000"
                    },
                    "execution_count": 9,
                    "metadata": {},
                    "output_type": "execute_result"
                }
            ],
            "source": "purchase_data.describe()"
        },
        {
            "cell_type": "code",
            "execution_count": 10,
            "metadata": {},
            "outputs": [
                {
                    "data": {
                        "text/html": "<div>\n<style scoped>\n    .dataframe tbody tr th:only-of-type {\n        vertical-align: middle;\n    }\n\n    .dataframe tbody tr th {\n        vertical-align: top;\n    }\n\n    .dataframe thead th {\n        text-align: right;\n    }\n</style>\n<table border=\"1\" class=\"dataframe\">\n  <thead>\n    <tr style=\"text-align: right;\">\n      <th></th>\n      <th>Purchase ID</th>\n      <th>SN</th>\n      <th>Age</th>\n      <th>Gender</th>\n      <th>Item ID</th>\n      <th>Item Name</th>\n      <th>Price</th>\n    </tr>\n  </thead>\n  <tbody>\n    <tr>\n      <th>0</th>\n      <td>0</td>\n      <td>Lisim78</td>\n      <td>20</td>\n      <td>Male</td>\n      <td>108</td>\n      <td>Extraction, Quickblade Of Trembling Hands</td>\n      <td>3.53</td>\n    </tr>\n    <tr>\n      <th>1</th>\n      <td>1</td>\n      <td>Lisovynya38</td>\n      <td>40</td>\n      <td>Male</td>\n      <td>143</td>\n      <td>Frenzied Scimitar</td>\n      <td>1.56</td>\n    </tr>\n    <tr>\n      <th>2</th>\n      <td>2</td>\n      <td>Ithergue48</td>\n      <td>24</td>\n      <td>Male</td>\n      <td>92</td>\n      <td>Final Critic</td>\n      <td>4.88</td>\n    </tr>\n    <tr>\n      <th>3</th>\n      <td>3</td>\n      <td>Chamassasya86</td>\n      <td>24</td>\n      <td>Male</td>\n      <td>100</td>\n      <td>Blindscythe</td>\n      <td>3.27</td>\n    </tr>\n    <tr>\n      <th>4</th>\n      <td>4</td>\n      <td>Iskosia90</td>\n      <td>23</td>\n      <td>Male</td>\n      <td>131</td>\n      <td>Fury</td>\n      <td>1.44</td>\n    </tr>\n  </tbody>\n</table>\n</div>",
                        "text/plain": "   Purchase ID             SN  Age Gender  Item ID  \\\n0            0        Lisim78   20   Male      108   \n1            1    Lisovynya38   40   Male      143   \n2            2     Ithergue48   24   Male       92   \n3            3  Chamassasya86   24   Male      100   \n4            4      Iskosia90   23   Male      131   \n\n                                   Item Name  Price  \n0  Extraction, Quickblade Of Trembling Hands   3.53  \n1                          Frenzied Scimitar   1.56  \n2                               Final Critic   4.88  \n3                                Blindscythe   3.27  \n4                                       Fury   1.44  "
                    },
                    "execution_count": 10,
                    "metadata": {},
                    "output_type": "execute_result"
                }
            ],
            "source": "purchase_data.head()"
        },
        {
            "cell_type": "markdown",
            "metadata": {},
            "source": "## Player Count"
        },
        {
            "cell_type": "markdown",
            "metadata": {},
            "source": "* Display the total number of players\n"
        },
        {
            "cell_type": "code",
            "execution_count": 11,
            "metadata": {},
            "outputs": [
                {
                    "data": {
                        "text/html": "<div>\n<style scoped>\n    .dataframe tbody tr th:only-of-type {\n        vertical-align: middle;\n    }\n\n    .dataframe tbody tr th {\n        vertical-align: top;\n    }\n\n    .dataframe thead th {\n        text-align: right;\n    }\n</style>\n<table border=\"1\" class=\"dataframe\">\n  <thead>\n    <tr style=\"text-align: right;\">\n      <th></th>\n      <th>Total Players</th>\n    </tr>\n  </thead>\n  <tbody>\n    <tr>\n      <th>0</th>\n      <td>576</td>\n    </tr>\n  </tbody>\n</table>\n</div>",
                        "text/plain": "   Total Players\n0            576"
                    },
                    "execution_count": 11,
                    "metadata": {},
                    "output_type": "execute_result"
                }
            ],
            "source": "player_number = len(purchase_data['SN'].unique())\n\ntotal_players = pd.DataFrame([\n    {\"Total Players\": player_number}\n])\n\ntotal_players"
        },
        {
            "cell_type": "code",
            "execution_count": null,
            "metadata": {},
            "outputs": [],
            "source": ""
        },
        {
            "cell_type": "markdown",
            "metadata": {},
            "source": "## Purchasing Analysis (Total)"
        },
        {
            "cell_type": "markdown",
            "metadata": {},
            "source": "* Run basic calculations to obtain number of unique items, average price, etc.\n\n\n* Create a summary data frame to hold the results\n\n\n* Optional: give the displayed data cleaner formatting\n\n\n* Display the summary data frame\n"
        },
        {
            "cell_type": "code",
            "execution_count": 13,
            "metadata": {
                "scrolled": true
            },
            "outputs": [
                {
                    "data": {
                        "text/html": "<div>\n<style scoped>\n    .dataframe tbody tr th:only-of-type {\n        vertical-align: middle;\n    }\n\n    .dataframe tbody tr th {\n        vertical-align: top;\n    }\n\n    .dataframe thead th {\n        text-align: right;\n    }\n</style>\n<table border=\"1\" class=\"dataframe\">\n  <thead>\n    <tr style=\"text-align: right;\">\n      <th></th>\n      <th>Average Price</th>\n      <th>Number of Purchases</th>\n      <th>Number of Unique Items</th>\n      <th>Total Revenue</th>\n    </tr>\n  </thead>\n  <tbody>\n    <tr>\n      <th>0</th>\n      <td>$3.05</td>\n      <td>780</td>\n      <td>179</td>\n      <td>$2379.77</td>\n    </tr>\n  </tbody>\n</table>\n</div>",
                        "text/plain": "  Average Price  Number of Purchases  Number of Unique Items Total Revenue\n0         $3.05                  780                     179      $2379.77"
                    },
                    "execution_count": 13,
                    "metadata": {},
                    "output_type": "execute_result"
                }
            ],
            "source": "unique_items=len(purchase_data[\"Item ID\"].unique())\navg_price=purchase_data[\"Price\"].mean()\npurchase_number = sum(purchase_data[\"Item ID\"].value_counts())\ntotal_revenue = purchase_data[\"Price\"].sum()\n\np_analysis = pd.DataFrame([\n    {\"Number of Unique Items\": unique_items,\n     \"Average Price\": avg_price,\n     \"Number of Purchases\": purchase_number,\n     \"Total Revenue\": total_revenue}])\n\np_analysis[\"Average Price\"]=p_analysis[\"Average Price\"].map(\"${:.2f}\".format)\np_analysis[\"Total Revenue\"]=p_analysis[\"Total Revenue\"].map(\"${:.2f}\".format)\np_analysis"
        },
        {
            "cell_type": "markdown",
            "metadata": {},
            "source": "## Gender Demographics"
        },
        {
            "cell_type": "markdown",
            "metadata": {},
            "source": "* Percentage and Count of Male Players\n\n\n* Percentage and Count of Female Players\n\n\n* Percentage and Count of Other / Non-Disclosed\n\n\n"
        },
        {
            "cell_type": "code",
            "execution_count": 14,
            "metadata": {},
            "outputs": [
                {
                    "data": {
                        "text/html": "<div>\n<style scoped>\n    .dataframe tbody tr th:only-of-type {\n        vertical-align: middle;\n    }\n\n    .dataframe tbody tr th {\n        vertical-align: top;\n    }\n\n    .dataframe thead th {\n        text-align: right;\n    }\n</style>\n<table border=\"1\" class=\"dataframe\">\n  <thead>\n    <tr style=\"text-align: right;\">\n      <th></th>\n      <th>Total Count</th>\n      <th>Percentage of Players</th>\n    </tr>\n    <tr>\n      <th>Gender</th>\n      <th></th>\n      <th></th>\n    </tr>\n  </thead>\n  <tbody>\n    <tr>\n      <th>Male</th>\n      <td>484</td>\n      <td>84.03%</td>\n    </tr>\n    <tr>\n      <th>Female</th>\n      <td>81</td>\n      <td>14.06%</td>\n    </tr>\n    <tr>\n      <th>Other / Non-Disclosed</th>\n      <td>11</td>\n      <td>1.91%</td>\n    </tr>\n  </tbody>\n</table>\n</div>",
                        "text/plain": "                       Total Count Percentage of Players\nGender                                                  \nMale                           484                84.03%\nFemale                          81                14.06%\nOther / Non-Disclosed           11                 1.91%"
                    },
                    "execution_count": 14,
                    "metadata": {},
                    "output_type": "execute_result"
                }
            ],
            "source": "demo=pd.DataFrame(purchase_data.groupby('SN')[\"Gender\"].max())\n\ngender_demo=pd.DataFrame(demo.groupby('Gender')['Gender'].count())\ntotal=len(demo['Gender'])\ngender_demo[\"Percentage of Players\"]= (gender_demo['Gender']/total)*100\ngender_demo[\"Percentage of Players\"]=gender_demo[\"Percentage of Players\"].map(\"{0:.2f}%\".format)\n\ngender_demo=gender_demo.rename(columns={'Gender': 'Total Count'})\ngender_final=gender_demo.sort_values('Total Count', ascending=False)\ngender_final"
        },
        {
            "cell_type": "markdown",
            "metadata": {},
            "source": "\n## Purchasing Analysis (Gender)"
        },
        {
            "cell_type": "markdown",
            "metadata": {},
            "source": "* Run basic calculations to obtain purchase count, avg. purchase price, avg. purchase total per person etc. by gender\n\n\n\n\n* Create a summary data frame to hold the results\n\n\n* Optional: give the displayed data cleaner formatting\n\n\n* Display the summary data frame"
        },
        {
            "cell_type": "code",
            "execution_count": 16,
            "metadata": {},
            "outputs": [],
            "source": "count= purchase_data.groupby('Gender')['Item Name'].count().values.tolist()\n"
        },
        {
            "cell_type": "code",
            "execution_count": 17,
            "metadata": {},
            "outputs": [
                {
                    "data": {
                        "text/plain": "[113, 652, 15]"
                    },
                    "execution_count": 17,
                    "metadata": {},
                    "output_type": "execute_result"
                }
            ],
            "source": "count"
        },
        {
            "cell_type": "code",
            "execution_count": 18,
            "metadata": {},
            "outputs": [
                {
                    "data": {
                        "text/plain": "[3.203008849557519, 3.0178527607361953, 3.3460000000000005]"
                    },
                    "execution_count": 18,
                    "metadata": {},
                    "output_type": "execute_result"
                }
            ],
            "source": "avgprice=purchase_data.groupby('Gender')['Price'].mean().values.tolist()\navgprice"
        },
        {
            "cell_type": "code",
            "execution_count": 19,
            "metadata": {},
            "outputs": [
                {
                    "data": {
                        "text/plain": "[361.93999999999966, 1967.6399999999994, 50.190000000000005]"
                    },
                    "execution_count": 19,
                    "metadata": {},
                    "output_type": "execute_result"
                }
            ],
            "source": "totalprice=purchase_data.groupby('Gender')['Price'].sum().values.tolist()\ntotalprice"
        },
        {
            "cell_type": "code",
            "execution_count": 22,
            "metadata": {},
            "outputs": [],
            "source": "sumpricepp=purchase_data.groupby(['Gender','SN'])['Price'].sum().to_frame(name='Sum').reset_index()"
        },
        {
            "cell_type": "code",
            "execution_count": 23,
            "metadata": {},
            "outputs": [],
            "source": "ppcount=purchase_data.groupby(['Gender','SN'])['SN'].count().to_frame(name='Count').reset_index()\nmerge_pricepp=pd.merge(sumpricepp, ppcount, on=\"SN\", how=\"outer\")\nmerge_pricepp[\"Average\"]=(merge_pricepp['Sum']/merge_pricepp['Count']).astype(\"float\")\navgpricepp=merge_pricepp.groupby(['Gender_y'])['Sum'].mean()\navgpricepp_list = avgpricepp.values.tolist()\n"
        },
        {
            "cell_type": "code",
            "execution_count": 24,
            "metadata": {},
            "outputs": [],
            "source": "purchase_gender_df=pd.DataFrame([\n    {\"Gender\": \"Female\", \"Purchase Count\": count[0], \"Average Purchase Price\": avgprice[0], \n     \"Total Purchase Value\": totalprice[0], \"Avg Total Purchase per Person\": avgpricepp_list[0]},\n    {\"Gender\": \"Male\", \"Purchase Count\": count[1], \"Average Purchase Price\": avgprice[1], \n     \"Total Purchase Value\": totalprice[1], \"Avg Total Purchase per Person\": avgpricepp_list[1]},\n    {\"Gender\": \"Other / Non-Disclosed\", \"Purchase Count\": count[2], \"Average Purchase Price\": avgprice[2], \n     \"Total Purchase Value\": totalprice[2], \"Avg Total Purchase per Person\": avgpricepp_list[2]}\n])"
        },
        {
            "cell_type": "code",
            "execution_count": 25,
            "metadata": {},
            "outputs": [
                {
                    "data": {
                        "text/html": "<div>\n<style scoped>\n    .dataframe tbody tr th:only-of-type {\n        vertical-align: middle;\n    }\n\n    .dataframe tbody tr th {\n        vertical-align: top;\n    }\n\n    .dataframe thead th {\n        text-align: right;\n    }\n</style>\n<table border=\"1\" class=\"dataframe\">\n  <thead>\n    <tr style=\"text-align: right;\">\n      <th></th>\n      <th>Average Purchase Price</th>\n      <th>Avg Total Purchase per Person</th>\n      <th>Gender</th>\n      <th>Purchase Count</th>\n      <th>Total Purchase Value</th>\n    </tr>\n  </thead>\n  <tbody>\n    <tr>\n      <th>0</th>\n      <td>3.203009</td>\n      <td>4.468395</td>\n      <td>Female</td>\n      <td>113</td>\n      <td>361.94</td>\n    </tr>\n    <tr>\n      <th>1</th>\n      <td>3.017853</td>\n      <td>4.065372</td>\n      <td>Male</td>\n      <td>652</td>\n      <td>1967.64</td>\n    </tr>\n    <tr>\n      <th>2</th>\n      <td>3.346000</td>\n      <td>4.562727</td>\n      <td>Other / Non-Disclosed</td>\n      <td>15</td>\n      <td>50.19</td>\n    </tr>\n  </tbody>\n</table>\n</div>",
                        "text/plain": "   Average Purchase Price  Avg Total Purchase per Person  \\\n0                3.203009                       4.468395   \n1                3.017853                       4.065372   \n2                3.346000                       4.562727   \n\n                  Gender  Purchase Count  Total Purchase Value  \n0                 Female             113                361.94  \n1                   Male             652               1967.64  \n2  Other / Non-Disclosed              15                 50.19  "
                    },
                    "execution_count": 25,
                    "metadata": {},
                    "output_type": "execute_result"
                }
            ],
            "source": "purchase_gender_df"
        },
        {
            "cell_type": "code",
            "execution_count": null,
            "metadata": {},
            "outputs": [],
            "source": ""
        },
        {
            "cell_type": "code",
            "execution_count": null,
            "metadata": {},
            "outputs": [],
            "source": ""
        },
        {
            "cell_type": "code",
            "execution_count": null,
            "metadata": {},
            "outputs": [],
            "source": ""
        },
        {
            "cell_type": "code",
            "execution_count": null,
            "metadata": {},
            "outputs": [],
            "source": ""
        },
        {
            "cell_type": "code",
            "execution_count": null,
            "metadata": {},
            "outputs": [],
            "source": ""
        },
        {
            "cell_type": "code",
            "execution_count": 15,
            "metadata": {},
            "outputs": [
                {
                    "data": {
                        "text/html": "<div>\n<style scoped>\n    .dataframe tbody tr th:only-of-type {\n        vertical-align: middle;\n    }\n\n    .dataframe tbody tr th {\n        vertical-align: top;\n    }\n\n    .dataframe thead th {\n        text-align: right;\n    }\n</style>\n<table border=\"1\" class=\"dataframe\">\n  <thead>\n    <tr style=\"text-align: right;\">\n      <th></th>\n      <th>Average Purchase Price</th>\n      <th>Avg Total Purchase per Person</th>\n      <th>Gender</th>\n      <th>Purchase Count</th>\n      <th>Total Purchase Value</th>\n    </tr>\n  </thead>\n  <tbody>\n    <tr>\n      <th>0</th>\n      <td>$3.20</td>\n      <td>$4.47</td>\n      <td>Female</td>\n      <td>113</td>\n      <td>$361.94</td>\n    </tr>\n    <tr>\n      <th>1</th>\n      <td>$3.02</td>\n      <td>$4.07</td>\n      <td>Male</td>\n      <td>652</td>\n      <td>$1967.64</td>\n    </tr>\n    <tr>\n      <th>2</th>\n      <td>$3.35</td>\n      <td>$4.56</td>\n      <td>Other / Non-Disclosed</td>\n      <td>15</td>\n      <td>$50.19</td>\n    </tr>\n  </tbody>\n</table>\n</div>",
                        "text/plain": "  Average Purchase Price Avg Total Purchase per Person                 Gender  \\\n0                  $3.20                         $4.47                 Female   \n1                  $3.02                         $4.07                   Male   \n2                  $3.35                         $4.56  Other / Non-Disclosed   \n\n   Purchase Count Total Purchase Value  \n0             113              $361.94  \n1             652             $1967.64  \n2              15               $50.19  "
                    },
                    "execution_count": 15,
                    "metadata": {},
                    "output_type": "execute_result"
                }
            ],
            "source": "\ncount= purchase_data.groupby('Gender')['Item Name'].count().values.tolist()\navgprice=purchase_data.groupby('Gender')['Price'].mean().values.tolist()\ntotalprice=purchase_data.groupby('Gender')['Price'].sum().values.tolist()\n\n\nsumpricepp=purchase_data.groupby(['Gender','SN'])['Price'].sum().to_frame(name='Sum').reset_index()\nppcount=purchase_data.groupby(['Gender','SN'])['SN'].count().to_frame(name='Count').reset_index()\nmerge_pricepp=pd.merge(sumpricepp, ppcount, on=\"SN\", how=\"outer\")\nmerge_pricepp[\"Average\"]=(merge_pricepp['Sum']/merge_pricepp['Count']).astype(\"float\")\navgpricepp=merge_pricepp.groupby(['Gender_y'])['Sum'].mean()\navgpricepp_list = avgpricepp.values.tolist()\n\npurchase_gender_df=pd.DataFrame([\n    {\"Gender\": \"Female\", \"Purchase Count\": count[0], \"Average Purchase Price\": avgprice[0], \n     \"Total Purchase Value\": totalprice[0], \"Avg Total Purchase per Person\": avgpricepp_list[0]},\n    {\"Gender\": \"Male\", \"Purchase Count\": count[1], \"Average Purchase Price\": avgprice[1], \n     \"Total Purchase Value\": totalprice[1], \"Avg Total Purchase per Person\": avgpricepp_list[1]},\n    {\"Gender\": \"Other / Non-Disclosed\", \"Purchase Count\": count[2], \"Average Purchase Price\": avgprice[2], \n     \"Total Purchase Value\": totalprice[2], \"Avg Total Purchase per Person\": avgpricepp_list[2]}\n])\n\npurchase_gender_df[\"Average Purchase Price\"]=purchase_gender_df[\"Average Purchase Price\"].map(\"${:.2f}\".format)\npurchase_gender_df[\"Total Purchase Value\"]=purchase_gender_df[\"Total Purchase Value\"].map(\"${:.2f}\".format)\npurchase_gender_df[\"Avg Total Purchase per Person\"]=purchase_gender_df[\"Avg Total Purchase per Person\"].map(\"${:.2f}\".format)\npurchase_gender_df=purchase_gender_df.reset_index(drop=True)\npurchase_gender_df"
        },
        {
            "cell_type": "code",
            "execution_count": 21,
            "metadata": {},
            "outputs": [
                {
                    "data": {
                        "text/plain": "(3, 5)"
                    },
                    "execution_count": 21,
                    "metadata": {},
                    "output_type": "execute_result"
                }
            ],
            "source": "purchase_gender_df.shape"
        },
        {
            "cell_type": "markdown",
            "metadata": {},
            "source": "## Age Demographics"
        },
        {
            "cell_type": "markdown",
            "metadata": {},
            "source": "* Establish bins for ages\n\n\n* Categorize the existing players using the age bins. Hint: use pd.cut()\n\n\n* Calculate the numbers and percentages by age group\n\n\n* Create a summary data frame to hold the results\n\n\n* Optional: round the percentage column to two decimal points\n\n\n* Display Age Demographics Table\n"
        },
        {
            "cell_type": "code",
            "execution_count": 117,
            "metadata": {},
            "outputs": [
                {
                    "data": {
                        "text/html": "<div>\n<style scoped>\n    .dataframe tbody tr th:only-of-type {\n        vertical-align: middle;\n    }\n\n    .dataframe tbody tr th {\n        vertical-align: top;\n    }\n\n    .dataframe thead th {\n        text-align: right;\n    }\n</style>\n<table border=\"1\" class=\"dataframe\">\n  <thead>\n    <tr style=\"text-align: right;\">\n      <th></th>\n      <th>Total Counts</th>\n      <th>Percentage of Players</th>\n    </tr>\n    <tr>\n      <th>Age Range</th>\n      <th></th>\n      <th></th>\n    </tr>\n  </thead>\n  <tbody>\n    <tr>\n      <th>&lt;10</th>\n      <td>17</td>\n      <td>2.95%</td>\n    </tr>\n    <tr>\n      <th>10-14</th>\n      <td>22</td>\n      <td>3.82%</td>\n    </tr>\n    <tr>\n      <th>15-19</th>\n      <td>107</td>\n      <td>18.58%</td>\n    </tr>\n    <tr>\n      <th>20-24</th>\n      <td>258</td>\n      <td>44.79%</td>\n    </tr>\n    <tr>\n      <th>25-29</th>\n      <td>77</td>\n      <td>13.37%</td>\n    </tr>\n    <tr>\n      <th>30-34</th>\n      <td>52</td>\n      <td>9.03%</td>\n    </tr>\n    <tr>\n      <th>35-39</th>\n      <td>31</td>\n      <td>5.38%</td>\n    </tr>\n    <tr>\n      <th>40+</th>\n      <td>12</td>\n      <td>2.08%</td>\n    </tr>\n  </tbody>\n</table>\n</div>",
                        "text/plain": "           Total Counts Percentage of Players\nAge Range                                    \n<10                  17                 2.95%\n10-14                22                 3.82%\n15-19               107                18.58%\n20-24               258                44.79%\n25-29                77                13.37%\n30-34                52                 9.03%\n35-39                31                 5.38%\n40+                  12                 2.08%"
                    },
                    "execution_count": 117,
                    "metadata": {},
                    "output_type": "execute_result"
                }
            ],
            "source": "age_bins=[0,9,14,19,24,29,34,39,50]\nage_labels=[\"<10\",\"10-14\",\"15-19\",\"20-24\",\"25-29\",\"30-34\",\"35-39\",\"40+\"]\n\nuniquesn=pd.DataFrame(purchase_data.groupby('SN')['Age'].mean())\nuniquesn[\"Age Range\"]=pd.cut(uniquesn['Age'],age_bins,labels=age_labels)\n\nnew_age_df=pd.DataFrame(uniquesn.groupby(\"Age Range\")[\"Age\"].count())\nnew_age_df=new_age_df.rename(columns={\"Age\":\"Total Counts\"})\n\nnew_age_df[\"Percentage of Players\"]=(new_age_df[\"Total Counts\"]/(new_age_df[\"Total Counts\"].sum()))*100\nnew_age_df[\"Percentage of Players\"] = new_age_df[\"Percentage of Players\"].map(\"{0:,.2f}%\".format)\nnew_age_df\n\n\n# demo=pd.DataFrame(purchase_data.groupby('SN')[\"Gender\"].max())\n\n# gender_demo=pd.DataFrame(demo.groupby('Gender')['Gender'].count())\n# total=len(demo['Gender'])\n# gender_demo[\"Percentage of Players\"]= (gender_demo['Gender']/total)*100\n# gender_demo[\"Percentage of Players\"]=gender_demo[\"Percentage of Players\"].map(\"{0:.2f}%\".format)\n\n# gender_demo=gender_demo.rename(columns={'Gender': 'Total Count'})\n# gender_final=gender_demo.sort_values('Total Count', ascending=False)\n# gender_final\n"
        },
        {
            "cell_type": "markdown",
            "metadata": {},
            "source": "## Purchasing Analysis (Age)"
        },
        {
            "cell_type": "markdown",
            "metadata": {},
            "source": "* Bin the purchase_data data frame by age\n\n\n* Run basic calculations to obtain purchase count, avg. purchase price, avg. purchase total per person etc. in the table below\n\n\n* Create a summary data frame to hold the results\n\n\n* Optional: give the displayed data cleaner formatting\n\n\n* Display the summary data frame"
        },
        {
            "cell_type": "code",
            "execution_count": 58,
            "metadata": {},
            "outputs": [
                {
                    "data": {
                        "text/html": "<div>\n<style scoped>\n    .dataframe tbody tr th:only-of-type {\n        vertical-align: middle;\n    }\n\n    .dataframe tbody tr th {\n        vertical-align: top;\n    }\n\n    .dataframe thead th {\n        text-align: right;\n    }\n</style>\n<table border=\"1\" class=\"dataframe\">\n  <thead>\n    <tr style=\"text-align: right;\">\n      <th></th>\n      <th>Purchase Count</th>\n      <th>Average Purchase Price</th>\n      <th>Total Purchase Value</th>\n      <th>Avg Total Purchase per Person</th>\n    </tr>\n    <tr>\n      <th>Age Range</th>\n      <th></th>\n      <th></th>\n      <th></th>\n      <th></th>\n    </tr>\n  </thead>\n  <tbody>\n    <tr>\n      <th>&lt;10</th>\n      <td>23</td>\n      <td>$3.35</td>\n      <td>$77.13</td>\n      <td>$4.54</td>\n    </tr>\n    <tr>\n      <th>10-14</th>\n      <td>28</td>\n      <td>$2.96</td>\n      <td>$82.78</td>\n      <td>$3.76</td>\n    </tr>\n    <tr>\n      <th>15-19</th>\n      <td>136</td>\n      <td>$3.04</td>\n      <td>$412.89</td>\n      <td>$3.86</td>\n    </tr>\n    <tr>\n      <th>20-24</th>\n      <td>365</td>\n      <td>$3.05</td>\n      <td>$1114.06</td>\n      <td>$4.32</td>\n    </tr>\n    <tr>\n      <th>25-29</th>\n      <td>101</td>\n      <td>$2.90</td>\n      <td>$293.00</td>\n      <td>$3.81</td>\n    </tr>\n    <tr>\n      <th>30-34</th>\n      <td>73</td>\n      <td>$2.93</td>\n      <td>$214.00</td>\n      <td>$4.12</td>\n    </tr>\n    <tr>\n      <th>35-39</th>\n      <td>41</td>\n      <td>$3.60</td>\n      <td>$147.67</td>\n      <td>$4.76</td>\n    </tr>\n    <tr>\n      <th>40+</th>\n      <td>13</td>\n      <td>$2.94</td>\n      <td>$38.24</td>\n      <td>$3.19</td>\n    </tr>\n  </tbody>\n</table>\n</div>",
                        "text/plain": "           Purchase Count Average Purchase Price Total Purchase Value  \\\nAge Range                                                               \n<10                    23                  $3.35               $77.13   \n10-14                  28                  $2.96               $82.78   \n15-19                 136                  $3.04              $412.89   \n20-24                 365                  $3.05             $1114.06   \n25-29                 101                  $2.90              $293.00   \n30-34                  73                  $2.93              $214.00   \n35-39                  41                  $3.60              $147.67   \n40+                    13                  $2.94               $38.24   \n\n          Avg Total Purchase per Person  \nAge Range                                \n<10                               $4.54  \n10-14                             $3.76  \n15-19                             $3.86  \n20-24                             $4.32  \n25-29                             $3.81  \n30-34                             $4.12  \n35-39                             $4.76  \n40+                               $3.19  "
                    },
                    "execution_count": 58,
                    "metadata": {},
                    "output_type": "execute_result"
                }
            ],
            "source": "# last column values are not matching :(\n\nage_purchase=purchase_data.groupby(\"Age Range\")[\"Item ID\"].count()\navg_price=purchase_data.groupby(\"Age Range\")['Price'].mean()\ntotal_price=purchase_data.groupby(\"Age Range\")['Price'].sum()\n\n# calculate average total price per person\nppcount=pd.DataFrame(purchase_data.groupby('SN')['Item ID'].count()) \npptotal=pd.DataFrame(purchase_data.groupby('SN')['Price'].sum())\nppmerge_df=pd.merge(ppcount, pptotal, on=\"SN\", how=\"outer\")\naronly_df=pd.DataFrame(purchase_data.groupby('SN')['Age Range'].max())\npparmerge=pd.merge(aronly_df, ppmerge_df, on=\"SN\", how=\"outer\")\navgpp_df=pparmerge.groupby(\"Age Range\")[\"Price\"].mean()\n\n\n# final merge all dataframes to store all info\nfinalmerge1=pd.merge(age_purchase, avg_price, on=\"Age Range\", how=\"outer\")\nfinalmerge2=pd.merge(finalmerge1, total_price, on=\"Age Range\", how=\"outer\")\nfinalmerge3=pd.merge(finalmerge2, avgpp_df, on=\"Age Range\", how=\"outer\")\n\n\n# format\nfinalmerge3=finalmerge3.rename(columns={\"Item ID\":\"Purchase Count\",\"Price_x\": \"Average Purchase Price\",\n                                       \"Price_y\":\"Total Purchase Value\",\"Price\":\"Avg Total Purchase per Person\"})\n\nfinalmerge3[\"Purchase Count\"] = finalmerge3[\"Purchase Count\"]\nfinalmerge3[\"Average Purchase Price\"] = finalmerge3[\"Average Purchase Price\"].map(\"${:.2f}\".format)\nfinalmerge3[\"Total Purchase Value\"] = finalmerge3[\"Total Purchase Value\"].map(\"${:.2f}\".format)\nfinalmerge3[\"Avg Total Purchase per Person\"] = finalmerge3[\"Avg Total Purchase per Person\"].map(\"${:.2f}\".format)\n\nfinalmerge3"
        },
        {
            "cell_type": "markdown",
            "metadata": {},
            "source": "## Top Spenders"
        },
        {
            "cell_type": "markdown",
            "metadata": {},
            "source": "* Run basic calculations to obtain the results in the table below\n\n\n* Create a summary data frame to hold the results\n\n\n* Sort the total purchase value column in descending order\n\n\n* Optional: give the displayed data cleaner formatting\n\n\n* Display a preview of the summary data frame\n\n"
        },
        {
            "cell_type": "code",
            "execution_count": 76,
            "metadata": {},
            "outputs": [
                {
                    "data": {
                        "text/html": "<div>\n<style scoped>\n    .dataframe tbody tr th:only-of-type {\n        vertical-align: middle;\n    }\n\n    .dataframe tbody tr th {\n        vertical-align: top;\n    }\n\n    .dataframe thead th {\n        text-align: right;\n    }\n</style>\n<table border=\"1\" class=\"dataframe\">\n  <thead>\n    <tr style=\"text-align: right;\">\n      <th></th>\n      <th>Purchase Count</th>\n      <th>Average Purchase Value</th>\n      <th>Total Purchase Value</th>\n    </tr>\n    <tr>\n      <th>SN</th>\n      <th></th>\n      <th></th>\n      <th></th>\n    </tr>\n  </thead>\n  <tbody>\n    <tr>\n      <th>Lisosia93</th>\n      <td>5</td>\n      <td>$3.79</td>\n      <td>$18.96</td>\n    </tr>\n    <tr>\n      <th>Idastidru52</th>\n      <td>4</td>\n      <td>$3.86</td>\n      <td>$15.45</td>\n    </tr>\n    <tr>\n      <th>Chamjask73</th>\n      <td>3</td>\n      <td>$4.61</td>\n      <td>$13.83</td>\n    </tr>\n    <tr>\n      <th>Iral74</th>\n      <td>4</td>\n      <td>$3.40</td>\n      <td>$13.62</td>\n    </tr>\n    <tr>\n      <th>Iskadarya95</th>\n      <td>3</td>\n      <td>$4.37</td>\n      <td>$13.10</td>\n    </tr>\n  </tbody>\n</table>\n</div>",
                        "text/plain": "             Purchase Count Average Purchase Value Total Purchase Value\nSN                                                                     \nLisosia93                 5                  $3.79               $18.96\nIdastidru52               4                  $3.86               $15.45\nChamjask73                3                  $4.61               $13.83\nIral74                    4                  $3.40               $13.62\nIskadarya95               3                  $4.37               $13.10"
                    },
                    "execution_count": 76,
                    "metadata": {},
                    "output_type": "execute_result"
                }
            ],
            "source": "\nppavg=pd.DataFrame(purchase_data.groupby('SN')['Price'].mean())\ntopspender=pd.merge(pparmerge, ppavg, on=\"SN\", how='outer')\n\ntopspender=topspender.rename(columns={\"Item ID\": \"Purchase Count\", \"Price_y\":\"Average Purchase Value\", \n                                      \"Price_x\":\"Total Purchase Value\"})\ntopspender=topspender.sort_values(\"Total Purchase Value\", ascending=False)\ndel topspender['Age Range']\n\n# formatting\ntopspender=topspender[[\"Purchase Count\", \"Average Purchase Value\", \"Total Purchase Value\"]]\ntopspender[\"Total Purchase Value\"] = topspender[\"Total Purchase Value\"].map(\"${:.2f}\".format)\ntopspender[\"Average Purchase Value\"] = topspender[\"Average Purchase Value\"].map(\"${:.2f}\".format)\n\ntopspender[:5]\n\n\n"
        },
        {
            "cell_type": "markdown",
            "metadata": {},
            "source": "## Most Popular Items"
        },
        {
            "cell_type": "markdown",
            "metadata": {},
            "source": "* Retrieve the Item ID, Item Name, and Item Price columns\n\n\n* Group by Item ID and Item Name. Perform calculations to obtain purchase count, item price, and total purchase value\n\n\n* Create a summary data frame to hold the results\n\n\n* Sort the purchase count column in descending order\n\n\n* Optional: give the displayed data cleaner formatting\n\n\n* Display a preview of the summary data frame\n\n"
        },
        {
            "cell_type": "code",
            "execution_count": 77,
            "metadata": {},
            "outputs": [
                {
                    "data": {
                        "text/html": "<div>\n<style scoped>\n    .dataframe tbody tr th:only-of-type {\n        vertical-align: middle;\n    }\n\n    .dataframe tbody tr th {\n        vertical-align: top;\n    }\n\n    .dataframe thead th {\n        text-align: right;\n    }\n</style>\n<table border=\"1\" class=\"dataframe\">\n  <thead>\n    <tr style=\"text-align: right;\">\n      <th></th>\n      <th></th>\n      <th>Purchase Count</th>\n      <th>Item Price</th>\n      <th>Total Purchase Value</th>\n    </tr>\n    <tr>\n      <th>Item ID</th>\n      <th>Item Name</th>\n      <th></th>\n      <th></th>\n      <th></th>\n    </tr>\n  </thead>\n  <tbody>\n    <tr>\n      <th>92</th>\n      <th>Final Critic</th>\n      <td>13</td>\n      <td>$4.61</td>\n      <td>$59.99</td>\n    </tr>\n    <tr>\n      <th>178</th>\n      <th>Oathbreaker, Last Hope of the Breaking Storm</th>\n      <td>12</td>\n      <td>$4.23</td>\n      <td>$50.76</td>\n    </tr>\n    <tr>\n      <th>145</th>\n      <th>Fiery Glass Crusader</th>\n      <td>9</td>\n      <td>$4.58</td>\n      <td>$41.22</td>\n    </tr>\n    <tr>\n      <th>132</th>\n      <th>Persuasion</th>\n      <td>9</td>\n      <td>$3.22</td>\n      <td>$28.99</td>\n    </tr>\n    <tr>\n      <th>108</th>\n      <th>Extraction, Quickblade Of Trembling Hands</th>\n      <td>9</td>\n      <td>$3.53</td>\n      <td>$31.77</td>\n    </tr>\n  </tbody>\n</table>\n</div>",
                        "text/plain": "                                                      Purchase Count  \\\nItem ID Item Name                                                      \n92      Final Critic                                              13   \n178     Oathbreaker, Last Hope of the Breaking Storm              12   \n145     Fiery Glass Crusader                                       9   \n132     Persuasion                                                 9   \n108     Extraction, Quickblade Of Trembling Hands                  9   \n\n                                                     Item Price  \\\nItem ID Item Name                                                 \n92      Final Critic                                      $4.61   \n178     Oathbreaker, Last Hope of the Breaking Storm      $4.23   \n145     Fiery Glass Crusader                              $4.58   \n132     Persuasion                                        $3.22   \n108     Extraction, Quickblade Of Trembling Hands         $3.53   \n\n                                                     Total Purchase Value  \nItem ID Item Name                                                          \n92      Final Critic                                               $59.99  \n178     Oathbreaker, Last Hope of the Breaking Storm               $50.76  \n145     Fiery Glass Crusader                                       $41.22  \n132     Persuasion                                                 $28.99  \n108     Extraction, Quickblade Of Trembling Hands                  $31.77  "
                    },
                    "execution_count": 77,
                    "metadata": {},
                    "output_type": "execute_result"
                }
            ],
            "source": "purchase_data.columns\n\npopularity= purchase_data[[\"Item ID\", \"Item Name\", \"Price\"]]\n\ntotal_price= popularity.groupby([\"Item ID\",\"Item Name\"])['Price'].sum()\nitem_price=popularity.groupby([\"Item ID\",\"Item Name\"])['Price'].mean()\ncount=popularity.groupby([\"Item ID\",\"Item Name\"])['Price'].count()\n\nmerge1_df=pd.merge(count, item_price, on=[\"Item ID\",\"Item Name\"], how=\"outer\")\nmerge2_df=pd.merge(merge1_df, total_price, on=[\"Item ID\",\"Item Name\"], how=\"outer\")\nmerge2_df=merge2_df.rename(columns={\"Price_x\":\"Purchase Count\",\n                                     \"Price_y\": \"Item Price\",\n                                    \"Price\": \"Total Purchase Value\"})\nnewmerge_df=merge2_df.sort_values(\"Purchase Count\", ascending=False)\n\n\n\nnewmerge_df[\"Item Price\"] = newmerge_df[\"Item Price\"].map(\"${:.2f}\".format)\nnewmerge_df[\"Total Purchase Value\"] = newmerge_df[\"Total Purchase Value\"].map(\"${:.2f}\".format)\nnewmerge_df[:5] \n\n                              "
        },
        {
            "cell_type": "markdown",
            "metadata": {},
            "source": "## Most Profitable Items"
        },
        {
            "cell_type": "markdown",
            "metadata": {},
            "source": "* Sort the above table by total purchase value in descending order\n\n\n* Optional: give the displayed data cleaner formatting\n\n\n* Display a preview of the data frame\n\n"
        },
        {
            "cell_type": "code",
            "execution_count": 78,
            "metadata": {
                "scrolled": true
            },
            "outputs": [
                {
                    "data": {
                        "text/html": "<div>\n<style scoped>\n    .dataframe tbody tr th:only-of-type {\n        vertical-align: middle;\n    }\n\n    .dataframe tbody tr th {\n        vertical-align: top;\n    }\n\n    .dataframe thead th {\n        text-align: right;\n    }\n</style>\n<table border=\"1\" class=\"dataframe\">\n  <thead>\n    <tr style=\"text-align: right;\">\n      <th></th>\n      <th></th>\n      <th>Purchase Count</th>\n      <th>Item Price</th>\n      <th>Total Purchase Value</th>\n    </tr>\n    <tr>\n      <th>Item ID</th>\n      <th>Item Name</th>\n      <th></th>\n      <th></th>\n      <th></th>\n    </tr>\n  </thead>\n  <tbody>\n    <tr>\n      <th>92</th>\n      <th>Final Critic</th>\n      <td>13</td>\n      <td>$4.61</td>\n      <td>$59.99</td>\n    </tr>\n    <tr>\n      <th>178</th>\n      <th>Oathbreaker, Last Hope of the Breaking Storm</th>\n      <td>12</td>\n      <td>$4.23</td>\n      <td>$50.76</td>\n    </tr>\n    <tr>\n      <th>82</th>\n      <th>Nirvana</th>\n      <td>9</td>\n      <td>$4.90</td>\n      <td>$44.10</td>\n    </tr>\n    <tr>\n      <th>145</th>\n      <th>Fiery Glass Crusader</th>\n      <td>9</td>\n      <td>$4.58</td>\n      <td>$41.22</td>\n    </tr>\n    <tr>\n      <th>103</th>\n      <th>Singed Scalpel</th>\n      <td>8</td>\n      <td>$4.35</td>\n      <td>$34.80</td>\n    </tr>\n  </tbody>\n</table>\n</div>",
                        "text/plain": "                                                      Purchase Count  \\\nItem ID Item Name                                                      \n92      Final Critic                                              13   \n178     Oathbreaker, Last Hope of the Breaking Storm              12   \n82      Nirvana                                                    9   \n145     Fiery Glass Crusader                                       9   \n103     Singed Scalpel                                             8   \n\n                                                     Item Price  \\\nItem ID Item Name                                                 \n92      Final Critic                                      $4.61   \n178     Oathbreaker, Last Hope of the Breaking Storm      $4.23   \n82      Nirvana                                           $4.90   \n145     Fiery Glass Crusader                              $4.58   \n103     Singed Scalpel                                    $4.35   \n\n                                                     Total Purchase Value  \nItem ID Item Name                                                          \n92      Final Critic                                               $59.99  \n178     Oathbreaker, Last Hope of the Breaking Storm               $50.76  \n82      Nirvana                                                    $44.10  \n145     Fiery Glass Crusader                                       $41.22  \n103     Singed Scalpel                                             $34.80  "
                    },
                    "execution_count": 78,
                    "metadata": {},
                    "output_type": "execute_result"
                }
            ],
            "source": "newmerge_df=merge2_df.sort_values(\"Total Purchase Value\", ascending=False)\n\n\n\nnewmerge_df[\"Item Price\"] = newmerge_df[\"Item Price\"].map(\"${:.2f}\".format)\nnewmerge_df[\"Total Purchase Value\"] = newmerge_df[\"Total Purchase Value\"].map(\"${:.2f}\".format)\nnewmerge_df[:5] \n"
        },
        {
            "cell_type": "code",
            "execution_count": null,
            "metadata": {},
            "outputs": [],
            "source": ""
        }
    ],
    "metadata": {
        "anaconda-cloud": {},
        "kernel_info": {
            "name": "python3"
        },
        "kernelspec": {
            "display_name": "Python 3.6",
            "language": "python",
            "name": "python3"
        },
        "language_info": {
            "codemirror_mode": {
                "name": "ipython",
                "version": 3
            },
            "file_extension": ".py",
            "mimetype": "text/x-python",
            "name": "python",
            "nbconvert_exporter": "python",
            "pygments_lexer": "ipython3",
            "version": "3.6.9"
        },
        "latex_envs": {
            "LaTeX_envs_menu_present": true,
            "autoclose": false,
            "autocomplete": true,
            "bibliofile": "biblio.bib",
            "cite_by": "apalike",
            "current_citInitial": 1,
            "eqLabelWithNumbers": true,
            "eqNumInitial": 1,
            "hotkeys": {
                "equation": "Ctrl-E",
                "itemize": "Ctrl-I"
            },
            "labels_anchors": false,
            "latex_user_defs": false,
            "report_style_numbering": false,
            "user_envs_cfg": false
        },
        "nteract": {
            "version": "0.2.0"
        }
    },
    "nbformat": 4,
    "nbformat_minor": 2
}