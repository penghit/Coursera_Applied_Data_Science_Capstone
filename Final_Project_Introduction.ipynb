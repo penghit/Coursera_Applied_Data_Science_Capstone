{
    "cells": [
        {
            "cell_type": "markdown",
            "metadata": {
                "collapsed": true
            },
            "source": "# Introduction\n\n### The problem : People are always moving homes from one places to the other, maybe due to finding a new job or some other reasons. When people are moving from one place to the other. Sometimes they may want to move to a similar neighborhood to the one they are currently living in. By similar I mean maybe for both neighbors there are shopping malls nearby, similar kind of resturants. Currently I live in Nashville, TN, USA. Supposed that I find a new job in New York City and want to find a similar neighbor to which I am currently living. How can I do this?\n\n\n### This project will also help a lot of other people with similar concerns, so this study will be very helpful."
        },
        {
            "cell_type": "code",
            "execution_count": null,
            "metadata": {},
            "outputs": [],
            "source": ""
        }
    ],
    "metadata": {
        "kernelspec": {
            "display_name": "Python 3.6",
            "language": "python",
            "name": "python3"
        },
        "language_info": {
            "codemirror_mode": {
                "name": "ipython",
                "version": 3
            },
            "file_extension": ".py",
            "mimetype": "text/x-python",
            "name": "python",
            "nbconvert_exporter": "python",
            "pygments_lexer": "ipython3",
            "version": "3.6.9"
        }
    },
    "nbformat": 4,
    "nbformat_minor": 1
}